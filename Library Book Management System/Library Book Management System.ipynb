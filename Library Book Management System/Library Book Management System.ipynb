{
 "cells": [
  {
   "cell_type": "markdown",
   "id": "aac124b6",
   "metadata": {},
   "source": [
    "# Library Book Management System"
   ]
  },
  {
   "cell_type": "code",
   "execution_count": null,
   "id": "94066990",
   "metadata": {},
   "outputs": [],
   "source": [
    "# importing all package\n",
    "\n",
    "from tkinter import *\n",
    "import sqlite3\n",
    "import tkinter.ttk as ttk\n",
    "import tkinter.messagebox as tkMessageBox"
   ]
  },
  {
   "cell_type": "code",
   "execution_count": null,
   "id": "1bf48f69",
   "metadata": {},
   "outputs": [],
   "source": [
    "root = Tk()\n",
    "root.title('A Library Application!')"
   ]
  },
  {
   "cell_type": "code",
   "execution_count": null,
   "id": "4841d3af",
   "metadata": {},
   "outputs": [],
   "source": [
    "def Database2():\n",
    "    global con,cur\n",
    "    con = sqlite3.connect('book.db')\n",
    "    cur = con.cursor()\n",
    "    cur.execute(\"CREATE TABLE IF NOT EXISTS library (Booktitle TEXT, Author TEXT, Year INTEGER, ISBN INTEGER)\")"
   ]
  },
  {
   "cell_type": "code",
   "execution_count": null,
   "id": "206b8cc2",
   "metadata": {},
   "outputs": [],
   "source": [
    "def Create():\n",
    "    if BOOKTITLE.get() == '' or AUTHOR.get() == '' or YEAR.get() == '':\n",
    "        txt_result.config(text='Please enter all field', fg='red')\n",
    "    else:\n",
    "        Database2()\n",
    "        cur.execute(\"INSERT INTO library (Booktitle,Author,Year,ISBN) VALUES(?,?,?,?)\", (str(BOOKTITLE.get()),str(AUTHOR.get()),str(YEAR.get()),str(ISBN.get())))\n",
    "        con.commit()\n",
    "        BOOKTITLE.set('')\n",
    "        YEAR.set('')\n",
    "        AUTHOR.set('')\n",
    "        ISBN.set('')\n",
    "        cur.close()\n",
    "        con.close()\n",
    "        txt_result.config(text='record inserted',fg='green')"
   ]
  },
  {
   "cell_type": "code",
   "execution_count": null,
   "id": "f908379d",
   "metadata": {},
   "outputs": [],
   "source": [
    "def search():\n",
    "    if AUTHOR.get() == '':\n",
    "        txt_result.config(text='Search can be done by author name', fg='red')\n",
    "    else:\n",
    "        tree.delete(*tree.get_children())\n",
    "        con = sqlite3.connect('book.db')\n",
    "        cur = con.cursor()\n",
    "        cur.execute(\"SELECT * FROM library WHERE Author=?\",(str(AUTHOR.get()),))\n",
    "        fetch = cur.fetchall()\n",
    "        for data in fetch:\n",
    "            tree.insert('', 'end',values=(data[0],data[1],data[2],data[3]))\n",
    "        con.close()\n",
    "        txt_result.config(text='Successfully Shown',fg='green')"
   ]
  },
  {
   "cell_type": "code",
   "execution_count": null,
   "id": "d5d433e2",
   "metadata": {},
   "outputs": [],
   "source": [
    "def update():\n",
    "    if BOOKTITLE.get() == '' or AUTHOR.get() == '' or YEAR.get() == '' or ISBN.get() == '':\n",
    "        txt_result.config(text='Updating can be done by booktitle name and please enter all field', fg='red')\n",
    "    else:\n",
    "        con = sqlite3.connect('book.db')\n",
    "        cur = con.cursor()\n",
    "        cur.execute(\"UPDATE library SET Author=?, Year=?,ISBN=? WHERE Booktitle=?\",(str(AUTHOR.get()),str(YEAR.get()),str(ISBN.get()),str(BOOKTITLE.get())))\n",
    "        con.commit()\n",
    "        con.close()\n",
    "        txt_result.config(text='Successfully updated',fg='green')"
   ]
  },
  {
   "cell_type": "code",
   "execution_count": null,
   "id": "203ef091",
   "metadata": {},
   "outputs": [],
   "source": [
    "def delete():\n",
    "    if BOOKTITLE.get() == '':\n",
    "        txt_result.config(text='Deleting can be done by book title name', fg='red')\n",
    "    else:\n",
    "        con = sqlite3.connect('book.db')\n",
    "        cur = con.cursor()\n",
    "        cur.execute(\"DELETE FROM library WHERE Booktitle=?\",(str(BOOKTITLE.get()),))\n",
    "        con.commit()\n",
    "        con.close()\n",
    "        txt_result.config(text='Successfully deleted',fg='green')"
   ]
  },
  {
   "cell_type": "code",
   "execution_count": null,
   "id": "79cda995",
   "metadata": {},
   "outputs": [],
   "source": [
    "def Read():\n",
    "    tree.delete(*tree.get_children())\n",
    "    Database2()\n",
    "    cur.execute('SELECT * FROM library')\n",
    "    fetch = cur.fetchall()\n",
    "    for data in fetch:\n",
    "        tree.insert('', 'end',values=(data[0],data[1],data[2],data[3]))\n",
    "    cur.close()\n",
    "    txt_result.config(text='Successfully Shown',fg='green')"
   ]
  },
  {
   "cell_type": "code",
   "execution_count": null,
   "id": "48021015",
   "metadata": {},
   "outputs": [],
   "source": [
    "def Exit():\n",
    "    res = tkMessageBox.askquestion('do you want to exit? (y/n)', icon='warning')\n",
    "    if res == 'yes':\n",
    "        root.destroy()\n",
    "        exit()"
   ]
  },
  {
   "cell_type": "code",
   "execution_count": null,
   "id": "6387c07c",
   "metadata": {},
   "outputs": [],
   "source": [
    "# creating variables\n",
    "\n",
    "BOOKTITLE = StringVar()\n",
    "AUTHOR = StringVar()\n",
    "YEAR = StringVar()\n",
    "ISBN = StringVar()"
   ]
  },
  {
   "cell_type": "code",
   "execution_count": null,
   "id": "35c8f96e",
   "metadata": {},
   "outputs": [],
   "source": [
    "# frame structure\n",
    "\n",
    "Top = Frame(root,width=900, height=50, bg='blue', bd=4, relief='raise')\n",
    "Top.pack(side=TOP)\n",
    "Left = Frame(root,width=300, height=300, bg='red', bd=4,relief='raise')\n",
    "Left.pack(side=LEFT)\n",
    "Right = Frame(root,width=250, height=900, bg='yellow', bd=4,relief='raise')\n",
    "Right.pack(side=RIGHT)\n",
    "\n",
    "\n",
    "Forms = Frame(Left,width=600, height=900)\n",
    "Forms.pack(side=TOP)\n",
    "\n",
    "Buttons = Frame(Left,width=100, height=50, bd=4, relief='raise')\n",
    "Buttons.pack(side=BOTTOM)"
   ]
  },
  {
   "cell_type": "code",
   "execution_count": null,
   "id": "f94381d2",
   "metadata": {},
   "outputs": [],
   "source": [
    "txt_title = Label(Top, width=900, font=('ariel',24), text='.....Library Management Application.....')\n",
    "txt_title.pack()\n",
    "\n",
    "\n",
    "txt_booktitle = Label(Forms, font=('ariel',15),bd=15, text='Booktitle:')\n",
    "txt_booktitle.grid(row=0, stick='e')\n",
    "txt_author = Label(Forms, font=('ariel',15),bd=15, text='Author:')\n",
    "txt_author.grid(row=1, stick='e')\n",
    "txt_year = Label(Forms, font=('ariel',15),bd=15, text='Year:')\n",
    "txt_year.grid(row=2, stick='e')\n",
    "txt_isbn = Label(Forms, font=('ariel',15),bd=15, text='ISBN:')\n",
    "txt_isbn.grid(row=3, stick='e')\n",
    "\n",
    "\n",
    "txt_result = Label(Buttons)\n",
    "txt_result.pack(side=TOP)"
   ]
  },
  {
   "cell_type": "code",
   "execution_count": null,
   "id": "dea39a89",
   "metadata": {},
   "outputs": [],
   "source": [
    "booktitle = Entry(Forms, textvariable=BOOKTITLE, width=30)\n",
    "booktitle.grid(row=0, column=1)\n",
    "\n",
    "author = Entry(Forms, textvariable=AUTHOR, width=30)\n",
    "author.grid(row=1, column=1)\n",
    "\n",
    "year = Entry(Forms, textvariable=YEAR, width=30)\n",
    "year.grid(row=2, column=1)\n",
    "\n",
    "isbn = Entry(Forms, textvariable=ISBN, width=30)\n",
    "isbn.grid(row=3, column=1)"
   ]
  },
  {
   "cell_type": "code",
   "execution_count": null,
   "id": "cb1f5cf4",
   "metadata": {},
   "outputs": [],
   "source": [
    "# BUTTONS\n",
    "\n",
    "btn_read = Button(Buttons, width=10, text='Display', command=Read)\n",
    "btn_read.pack(side=LEFT)\n",
    "\n",
    "btn_create = Button(Buttons, width=10, text='Search', command=search)\n",
    "btn_create.pack(side=LEFT)\n",
    "\n",
    "btn_read = Button(Buttons, width=10, text='Add', command=Create)\n",
    "btn_read.pack(side=LEFT)\n",
    "\n",
    "btn_update = Button(Buttons, width=10, text='issue', command=update)\n",
    "btn_update.pack(side=LEFT)\n",
    "\n",
    "btn_delete = Button(Buttons, width=10, text='Delete', command=delete)\n",
    "btn_delete.pack(side=LEFT)\n",
    "\n",
    "btn_exit = Button(Buttons, width=10, text='Exit', command=Exit)\n",
    "btn_exit.pack(side=LEFT)"
   ]
  },
  {
   "cell_type": "code",
   "execution_count": null,
   "id": "b6d95ebb",
   "metadata": {},
   "outputs": [],
   "source": [
    "scrollbary = Scrollbar(Right, orient=VERTICAL)\n",
    "scrollbarx = Scrollbar(Right, orient=HORIZONTAL)\n",
    "\n",
    "\n",
    "tree = ttk.Treeview(Right, columns= ('Booktitle','Author','Year', 'ISBN'))\n",
    "\n",
    "\n",
    "scrollbary.config(command=tree.yview)\n",
    "scrollbary.pack(side=RIGHT, fill=Y)\n",
    "scrollbarx.config(command=tree.xview)\n",
    "scrollbarx.pack(side=BOTTOM, fill=X)\n",
    "\n",
    "tree.heading('Booktitle', text='Booktitle', anchor=W)\n",
    "tree.heading('Author', text='Author', anchor=W)\n",
    "tree.heading('Year', text='Year', anchor=W)\n",
    "tree.heading('ISBN', text='ISBN', anchor=W)\n",
    "\n",
    "tree.column('#0', stretch=NO, minwidth=0, width=120)\n",
    "tree.column('#1', stretch=NO, minwidth=0, width=120)\n",
    "tree.column('#2', stretch=NO, minwidth=0, width=80)\n",
    "tree.column('#3', stretch=NO, minwidth=0, width=80)\n",
    "\n",
    "\n",
    "tree.pack()\n",
    "\n",
    "if __name__=='__main__':\n",
    "    root.mainloop()"
   ]
  },
  {
   "cell_type": "code",
   "execution_count": null,
   "id": "9a24d8a8",
   "metadata": {},
   "outputs": [],
   "source": []
  }
 ],
 "metadata": {
  "kernelspec": {
   "display_name": "Python 3 (ipykernel)",
   "language": "python",
   "name": "python3"
  },
  "language_info": {
   "codemirror_mode": {
    "name": "ipython",
    "version": 3
   },
   "file_extension": ".py",
   "mimetype": "text/x-python",
   "name": "python",
   "nbconvert_exporter": "python",
   "pygments_lexer": "ipython3",
   "version": "3.9.12"
  }
 },
 "nbformat": 4,
 "nbformat_minor": 5
}
